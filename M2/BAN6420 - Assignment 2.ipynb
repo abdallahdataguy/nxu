{
 "cells": [
  {
   "cell_type": "markdown",
   "id": "459f1829-c686-42e5-b9f5-25ac4ecc0b70",
   "metadata": {},
   "source": [
    "## Module 2 Assignment: Salary Function "
   ]
  },
  {
   "cell_type": "code",
   "execution_count": 161,
   "id": "f2fe8f5f-bc72-4e31-aab6-8ed3831eb295",
   "metadata": {},
   "outputs": [],
   "source": [
    "# Import the neccessary packages\n",
    "import pandas as pd\n",
    "import zipfile\n",
    "import os"
   ]
  },
  {
   "cell_type": "code",
   "execution_count": 168,
   "id": "d4488f7a-17af-4fb1-890f-203f960cb697",
   "metadata": {},
   "outputs": [
    {
     "name": "stdout",
     "output_type": "stream",
     "text": [
      "         EmployeeName                                        JobTitle  \\\n",
      "0      NATHANIEL FORD  GENERAL MANAGER-METROPOLITAN TRANSIT AUTHORITY   \n",
      "1        GARY JIMENEZ                 CAPTAIN III (POLICE DEPARTMENT)   \n",
      "2      ALBERT PARDINI                 CAPTAIN III (POLICE DEPARTMENT)   \n",
      "3   CHRISTOPHER CHONG            WIRE ROPE CABLE MAINTENANCE MECHANIC   \n",
      "4     PATRICK GARDNER    DEPUTY CHIEF OF DEPARTMENT,(FIRE DEPARTMENT)   \n",
      "5      DAVID SULLIVAN                       ASSISTANT DEPUTY CHIEF II   \n",
      "6           ALSON LEE              BATTALION CHIEF, (FIRE DEPARTMENT)   \n",
      "7       DAVID KUSHNER                  DEPUTY DIRECTOR OF INVESTMENTS   \n",
      "8      MICHAEL MORRIS              BATTALION CHIEF, (FIRE DEPARTMENT)   \n",
      "9  JOANNE HAYES-WHITE          CHIEF OF DEPARTMENT, (FIRE DEPARTMENT)   \n",
      "\n",
      "     BasePay  OvertimePay   OtherPay  Benefits   TotalPay  TotalPayBenefits  \\\n",
      "0  167411.18         0.00  400184.25       NaN  567595.43         567595.43   \n",
      "1  155966.02    245131.88  137811.38       NaN  538909.28         538909.28   \n",
      "2  212739.13    106088.18   16452.60       NaN  335279.91         335279.91   \n",
      "3   77916.00     56120.71  198306.90       NaN  332343.61         332343.61   \n",
      "4  134401.60      9737.00  182234.59       NaN  326373.19         326373.19   \n",
      "5  118602.00      8601.00  189082.74       NaN  316285.74         316285.74   \n",
      "6   92492.01     89062.90  134426.14       NaN  315981.05         315981.05   \n",
      "7  256576.96         0.00   51322.50       NaN  307899.46         307899.46   \n",
      "8  176932.64     86362.68   40132.23       NaN  303427.55         303427.55   \n",
      "9  285262.00         0.00   17115.73       NaN  302377.73         302377.73   \n",
      "\n",
      "   Year  \n",
      "0  2011  \n",
      "1  2011  \n",
      "2  2011  \n",
      "3  2011  \n",
      "4  2011  \n",
      "5  2011  \n",
      "6  2011  \n",
      "7  2011  \n",
      "8  2011  \n",
      "9  2011  \n"
     ]
    }
   ],
   "source": [
    "# Step1/ 4: Import Data\n",
    "# Read the file\n",
    "# Error handling in case the file does not exist\n",
    "file_path = 'Total.csv'\n",
    "try:\n",
    "    df = pd.read_csv(file_path, na_values='Not Provided')\n",
    "except Exception as e:\n",
    "    print(f'Error reading the file: {e}')"
   ]
  },
  {
   "cell_type": "code",
   "execution_count": 163,
   "id": "4b1ff88c-999c-441a-9c3a-0cb2f81d6f93",
   "metadata": {},
   "outputs": [],
   "source": [
    "# Step 2: Create Employee Function\n",
    "# Create a function to filter employee's data\n",
    "def filter_employee_data(employee_name): \n",
    "    # Return the details of the entered employee in case of multiple return all\n",
    "    # Ignore case of the typed name\n",
    "    emp_data = df[df['EmployeeName'].str.lower() == employee_name.lower()]\n",
    "    return emp_data.to_dict()"
   ]
  },
  {
   "cell_type": "code",
   "execution_count": 164,
   "id": "8aebfc9c-9937-4144-8a37-351121b18a03",
   "metadata": {},
   "outputs": [],
   "source": [
    "# Step 3: Data Processing with Dictionary\n",
    "# Filter and Process employee's details using dictionary approach\n",
    "emp_dict = filter_employee_data('GARY JIMENEZ') # change the name of employee inside parentheses accordingly\n",
    "emp_dict = {x: emp_dict[x].values() for x in emp_dict.keys()}\n",
    "\n",
    "# Format employee's name to proper case\n",
    "emp_dict['EmployeeName'] = [str(x).title() for x in emp_dict['EmployeeName']]\n",
    "\n",
    "# Format job title to proper case\n",
    "emp_dict['JobTitle'] = [str(x).title().replace(' Iii', ' III').replace(' Ii', ' II') for x in emp_dict['JobTitle']]"
   ]
  },
  {
   "cell_type": "code",
   "execution_count": 165,
   "id": "b7e73df9-ae6d-403b-8766-a68cf254524a",
   "metadata": {},
   "outputs": [],
   "source": [
    "# Step 5: Export Employee Details\n",
    "# Create a data frame of employee's details and save as csv file\n",
    "emp_df = pd.DataFrame(data=emp_dict) # Create a data frame\n",
    "csv_file = 'Employee Profile.csv' # Path to save the CSV\n",
    "emp_df.to_csv(csv_file, index=False) # Save the data frame to CSV\n",
    "\n",
    "# Compress the CSV file into a ZIP\n",
    "with zipfile.ZipFile('Employee Profile.zip', 'w', zipfile.ZIP_DEFLATED) as zipf:\n",
    "    zipf.write(csv_file)\n",
    "\n",
    "# Remove the original CSV file after zipping\n",
    "os.remove(csv_file)"
   ]
  },
  {
   "cell_type": "code",
   "execution_count": null,
   "id": "99dc1de4-c948-4b58-b628-3e150e8db6db",
   "metadata": {},
   "outputs": [],
   "source": []
  }
 ],
 "metadata": {
  "kernelspec": {
   "display_name": "Python 3 (ipykernel)",
   "language": "python",
   "name": "python3"
  },
  "language_info": {
   "codemirror_mode": {
    "name": "ipython",
    "version": 3
   },
   "file_extension": ".py",
   "mimetype": "text/x-python",
   "name": "python",
   "nbconvert_exporter": "python",
   "pygments_lexer": "ipython3",
   "version": "3.11.5"
  }
 },
 "nbformat": 4,
 "nbformat_minor": 5
}
